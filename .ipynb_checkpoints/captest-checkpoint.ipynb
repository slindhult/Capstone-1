{
 "cells": [
  {
   "cell_type": "code",
   "execution_count": 1,
   "metadata": {},
   "outputs": [],
   "source": [
    "import pandas as pd\n",
    "import matplotlib.pyplot as plt\n",
    "import plotly.figure_factory as ff\n",
    "import geopandas as gpd\n"
   ]
  },
  {
   "cell_type": "code",
   "execution_count": 2,
   "metadata": {},
   "outputs": [],
   "source": [
    "data = pd.read_csv('/home/slindhult/assignments/Capstone-1/Data/pollution_us_2000_2016.csv')"
   ]
  },
  {
   "cell_type": "code",
   "execution_count": 3,
   "metadata": {},
   "outputs": [],
   "source": [
    "cols_list = ['NO2 Mean',\n",
    "       'NO2 1st Max Value', 'NO2 1st Max Hour', 'NO2 AQI', \n",
    "       'O3 Mean', 'O3 1st Max Value', 'O3 1st Max Hour', 'O3 AQI',\n",
    "       'SO2 Mean', 'SO2 1st Max Value', 'SO2 1st Max Hour', 'SO2 AQI',\n",
    "       'CO Mean', 'CO 1st Max Value', 'CO 1st Max Hour', 'CO AQI']\n",
    "a = data.copy()\n",
    "purged = a[(a[['NO2 Mean',\n",
    "       'NO2 1st Max Value', 'NO2 1st Max Hour', 'NO2 AQI', \n",
    "       'O3 Mean', 'O3 1st Max Value', 'O3 1st Max Hour', 'O3 AQI',\n",
    "       'SO2 Mean', 'SO2 1st Max Value', 'SO2 1st Max Hour',\n",
    "       'CO Mean', 'CO 1st Max Value', 'CO 1st Max Hour']] >=0).all(1)]"
   ]
  },
  {
   "cell_type": "code",
   "execution_count": 4,
   "metadata": {},
   "outputs": [
    {
     "data": {
      "text/plain": [
       "(1722197, 29)"
      ]
     },
     "execution_count": 4,
     "metadata": {},
     "output_type": "execute_result"
    }
   ],
   "source": [
    "purged.shape"
   ]
  },
  {
   "cell_type": "code",
   "execution_count": 5,
   "metadata": {},
   "outputs": [],
   "source": [
    "state = purged[[\n",
    "       'State', 'NO2 Mean',\n",
    "       'NO2 1st Max Value', 'NO2 1st Max Hour', 'NO2 AQI',\n",
    "       'O3 Mean', 'O3 1st Max Value', 'O3 1st Max Hour', 'O3 AQI',\n",
    "       'SO2 Mean', 'SO2 1st Max Value', 'SO2 1st Max Hour', 'SO2 AQI',\n",
    "        'CO Mean', 'CO 1st Max Value', 'CO 1st Max Hour', 'CO AQI']].copy()"
   ]
  },
  {
   "cell_type": "code",
   "execution_count": 6,
   "metadata": {},
   "outputs": [],
   "source": [
    "s = state.groupby('State').agg({'NO2 Mean':'mean',\n",
    "       'NO2 1st Max Value':'mean', 'NO2 1st Max Hour':'mean', 'NO2 AQI':'mean',\n",
    "       'O3 Mean':'mean', 'O3 1st Max Value':'mean', 'O3 1st Max Hour':'mean', 'O3 AQI':'mean',\n",
    "       'SO2 Mean':'mean', 'SO2 1st Max Value':'mean', 'SO2 1st Max Hour':'mean', 'SO2 AQI':'mean',\n",
    "        'CO Mean':'mean', 'CO 1st Max Value':'mean', 'CO 1st Max Hour':'mean', 'CO AQI':'mean'})"
   ]
  },
  {
   "cell_type": "code",
   "execution_count": 7,
   "metadata": {},
   "outputs": [],
   "source": [
    "total = s[['NO2 AQI',\n",
    "       'O3 AQI', 'SO2 AQI', 'CO AQI']].copy()"
   ]
  },
  {
   "cell_type": "code",
   "execution_count": 8,
   "metadata": {},
   "outputs": [
    {
     "data": {
      "text/html": [
       "<div>\n",
       "<style scoped>\n",
       "    .dataframe tbody tr th:only-of-type {\n",
       "        vertical-align: middle;\n",
       "    }\n",
       "\n",
       "    .dataframe tbody tr th {\n",
       "        vertical-align: top;\n",
       "    }\n",
       "\n",
       "    .dataframe thead th {\n",
       "        text-align: right;\n",
       "    }\n",
       "</style>\n",
       "<table border=\"1\" class=\"dataframe\">\n",
       "  <thead>\n",
       "    <tr style=\"text-align: right;\">\n",
       "      <th></th>\n",
       "      <th>State</th>\n",
       "      <th>NO2 AQI</th>\n",
       "      <th>O3 AQI</th>\n",
       "      <th>SO2 AQI</th>\n",
       "      <th>CO AQI</th>\n",
       "    </tr>\n",
       "  </thead>\n",
       "  <tbody>\n",
       "    <tr>\n",
       "      <th>0</th>\n",
       "      <td>Alabama</td>\n",
       "      <td>21.329450</td>\n",
       "      <td>37.029773</td>\n",
       "      <td>7.095855</td>\n",
       "      <td>3.856311</td>\n",
       "    </tr>\n",
       "    <tr>\n",
       "      <th>1</th>\n",
       "      <td>Alaska</td>\n",
       "      <td>19.553191</td>\n",
       "      <td>17.725431</td>\n",
       "      <td>14.487335</td>\n",
       "      <td>6.528340</td>\n",
       "    </tr>\n",
       "    <tr>\n",
       "      <th>2</th>\n",
       "      <td>Arizona</td>\n",
       "      <td>36.110879</td>\n",
       "      <td>39.004382</td>\n",
       "      <td>4.214693</td>\n",
       "      <td>9.192756</td>\n",
       "    </tr>\n",
       "    <tr>\n",
       "      <th>3</th>\n",
       "      <td>Arkansas</td>\n",
       "      <td>21.486471</td>\n",
       "      <td>35.035662</td>\n",
       "      <td>2.975773</td>\n",
       "      <td>5.929914</td>\n",
       "    </tr>\n",
       "    <tr>\n",
       "      <th>4</th>\n",
       "      <td>California</td>\n",
       "      <td>24.339912</td>\n",
       "      <td>35.773237</td>\n",
       "      <td>3.658163</td>\n",
       "      <td>7.464027</td>\n",
       "    </tr>\n",
       "    <tr>\n",
       "      <th>5</th>\n",
       "      <td>Colorado</td>\n",
       "      <td>35.972034</td>\n",
       "      <td>34.675010</td>\n",
       "      <td>10.634384</td>\n",
       "      <td>7.736236</td>\n",
       "    </tr>\n",
       "    <tr>\n",
       "      <th>6</th>\n",
       "      <td>Connecticut</td>\n",
       "      <td>18.620579</td>\n",
       "      <td>37.169378</td>\n",
       "      <td>3.258446</td>\n",
       "      <td>3.604698</td>\n",
       "    </tr>\n",
       "    <tr>\n",
       "      <th>7</th>\n",
       "      <td>Country Of Mexico</td>\n",
       "      <td>37.989060</td>\n",
       "      <td>31.957711</td>\n",
       "      <td>6.565839</td>\n",
       "      <td>17.700525</td>\n",
       "    </tr>\n",
       "    <tr>\n",
       "      <th>8</th>\n",
       "      <td>Delaware</td>\n",
       "      <td>21.541047</td>\n",
       "      <td>35.400000</td>\n",
       "      <td>2.819835</td>\n",
       "      <td>3.839384</td>\n",
       "    </tr>\n",
       "    <tr>\n",
       "      <th>9</th>\n",
       "      <td>District Of Columbia</td>\n",
       "      <td>30.670972</td>\n",
       "      <td>33.804525</td>\n",
       "      <td>12.958151</td>\n",
       "      <td>11.648325</td>\n",
       "    </tr>\n",
       "    <tr>\n",
       "      <th>10</th>\n",
       "      <td>Florida</td>\n",
       "      <td>16.422680</td>\n",
       "      <td>35.991223</td>\n",
       "      <td>2.895456</td>\n",
       "      <td>5.925120</td>\n",
       "    </tr>\n",
       "    <tr>\n",
       "      <th>11</th>\n",
       "      <td>Georgia</td>\n",
       "      <td>24.143227</td>\n",
       "      <td>34.486920</td>\n",
       "      <td>1.793836</td>\n",
       "      <td>5.273057</td>\n",
       "    </tr>\n",
       "    <tr>\n",
       "      <th>12</th>\n",
       "      <td>Hawaii</td>\n",
       "      <td>8.653372</td>\n",
       "      <td>26.680028</td>\n",
       "      <td>2.328917</td>\n",
       "      <td>4.489577</td>\n",
       "    </tr>\n",
       "    <tr>\n",
       "      <th>13</th>\n",
       "      <td>Idaho</td>\n",
       "      <td>23.304061</td>\n",
       "      <td>35.046103</td>\n",
       "      <td>0.826754</td>\n",
       "      <td>2.868277</td>\n",
       "    </tr>\n",
       "    <tr>\n",
       "      <th>14</th>\n",
       "      <td>Illinois</td>\n",
       "      <td>28.394472</td>\n",
       "      <td>31.995167</td>\n",
       "      <td>13.146537</td>\n",
       "      <td>6.261019</td>\n",
       "    </tr>\n",
       "    <tr>\n",
       "      <th>15</th>\n",
       "      <td>Indiana</td>\n",
       "      <td>24.057734</td>\n",
       "      <td>41.589976</td>\n",
       "      <td>14.662694</td>\n",
       "      <td>5.395489</td>\n",
       "    </tr>\n",
       "    <tr>\n",
       "      <th>16</th>\n",
       "      <td>Iowa</td>\n",
       "      <td>14.358995</td>\n",
       "      <td>33.901688</td>\n",
       "      <td>1.459765</td>\n",
       "      <td>3.056471</td>\n",
       "    </tr>\n",
       "    <tr>\n",
       "      <th>17</th>\n",
       "      <td>Kansas</td>\n",
       "      <td>21.578529</td>\n",
       "      <td>34.366427</td>\n",
       "      <td>9.397458</td>\n",
       "      <td>6.542334</td>\n",
       "    </tr>\n",
       "    <tr>\n",
       "      <th>18</th>\n",
       "      <td>Kentucky</td>\n",
       "      <td>25.167098</td>\n",
       "      <td>43.028213</td>\n",
       "      <td>18.566776</td>\n",
       "      <td>3.179170</td>\n",
       "    </tr>\n",
       "    <tr>\n",
       "      <th>19</th>\n",
       "      <td>Louisiana</td>\n",
       "      <td>26.745706</td>\n",
       "      <td>34.019103</td>\n",
       "      <td>11.315516</td>\n",
       "      <td>6.312526</td>\n",
       "    </tr>\n",
       "    <tr>\n",
       "      <th>20</th>\n",
       "      <td>Maine</td>\n",
       "      <td>11.369052</td>\n",
       "      <td>28.070363</td>\n",
       "      <td>3.036645</td>\n",
       "      <td>3.096475</td>\n",
       "    </tr>\n",
       "    <tr>\n",
       "      <th>21</th>\n",
       "      <td>Maryland</td>\n",
       "      <td>19.789912</td>\n",
       "      <td>36.868504</td>\n",
       "      <td>7.071696</td>\n",
       "      <td>4.373523</td>\n",
       "    </tr>\n",
       "    <tr>\n",
       "      <th>22</th>\n",
       "      <td>Massachusetts</td>\n",
       "      <td>29.778324</td>\n",
       "      <td>25.913035</td>\n",
       "      <td>8.007972</td>\n",
       "      <td>5.539959</td>\n",
       "    </tr>\n",
       "    <tr>\n",
       "      <th>23</th>\n",
       "      <td>Michigan</td>\n",
       "      <td>31.839892</td>\n",
       "      <td>40.017111</td>\n",
       "      <td>17.970912</td>\n",
       "      <td>6.469956</td>\n",
       "    </tr>\n",
       "    <tr>\n",
       "      <th>24</th>\n",
       "      <td>Minnesota</td>\n",
       "      <td>16.005205</td>\n",
       "      <td>34.084442</td>\n",
       "      <td>1.196562</td>\n",
       "      <td>3.472108</td>\n",
       "    </tr>\n",
       "    <tr>\n",
       "      <th>25</th>\n",
       "      <td>Missouri</td>\n",
       "      <td>29.170695</td>\n",
       "      <td>41.910911</td>\n",
       "      <td>18.319515</td>\n",
       "      <td>7.413727</td>\n",
       "    </tr>\n",
       "    <tr>\n",
       "      <th>26</th>\n",
       "      <td>Nevada</td>\n",
       "      <td>24.016579</td>\n",
       "      <td>40.450577</td>\n",
       "      <td>1.133502</td>\n",
       "      <td>3.674927</td>\n",
       "    </tr>\n",
       "    <tr>\n",
       "      <th>27</th>\n",
       "      <td>New Hampshire</td>\n",
       "      <td>14.661072</td>\n",
       "      <td>34.543361</td>\n",
       "      <td>7.642995</td>\n",
       "      <td>5.073181</td>\n",
       "    </tr>\n",
       "    <tr>\n",
       "      <th>28</th>\n",
       "      <td>New Jersey</td>\n",
       "      <td>31.673051</td>\n",
       "      <td>34.309030</td>\n",
       "      <td>11.127992</td>\n",
       "      <td>6.437336</td>\n",
       "    </tr>\n",
       "    <tr>\n",
       "      <th>29</th>\n",
       "      <td>New Mexico</td>\n",
       "      <td>24.491702</td>\n",
       "      <td>41.319831</td>\n",
       "      <td>1.183759</td>\n",
       "      <td>3.484243</td>\n",
       "    </tr>\n",
       "    <tr>\n",
       "      <th>30</th>\n",
       "      <td>New York</td>\n",
       "      <td>30.591720</td>\n",
       "      <td>31.789282</td>\n",
       "      <td>14.067919</td>\n",
       "      <td>5.659485</td>\n",
       "    </tr>\n",
       "    <tr>\n",
       "      <th>31</th>\n",
       "      <td>North Carolina</td>\n",
       "      <td>22.615672</td>\n",
       "      <td>44.632609</td>\n",
       "      <td>8.792339</td>\n",
       "      <td>5.679589</td>\n",
       "    </tr>\n",
       "    <tr>\n",
       "      <th>32</th>\n",
       "      <td>North Dakota</td>\n",
       "      <td>12.427301</td>\n",
       "      <td>29.978581</td>\n",
       "      <td>0.412416</td>\n",
       "      <td>2.053358</td>\n",
       "    </tr>\n",
       "    <tr>\n",
       "      <th>33</th>\n",
       "      <td>Ohio</td>\n",
       "      <td>22.353491</td>\n",
       "      <td>31.715634</td>\n",
       "      <td>15.411400</td>\n",
       "      <td>4.012236</td>\n",
       "    </tr>\n",
       "    <tr>\n",
       "      <th>34</th>\n",
       "      <td>Oklahoma</td>\n",
       "      <td>14.999411</td>\n",
       "      <td>41.076488</td>\n",
       "      <td>3.789957</td>\n",
       "      <td>2.497939</td>\n",
       "    </tr>\n",
       "    <tr>\n",
       "      <th>35</th>\n",
       "      <td>Oregon</td>\n",
       "      <td>17.241121</td>\n",
       "      <td>25.188615</td>\n",
       "      <td>2.039076</td>\n",
       "      <td>5.313849</td>\n",
       "    </tr>\n",
       "    <tr>\n",
       "      <th>36</th>\n",
       "      <td>Pennsylvania</td>\n",
       "      <td>23.814352</td>\n",
       "      <td>39.713496</td>\n",
       "      <td>15.802602</td>\n",
       "      <td>3.986883</td>\n",
       "    </tr>\n",
       "    <tr>\n",
       "      <th>37</th>\n",
       "      <td>Rhode Island</td>\n",
       "      <td>14.447923</td>\n",
       "      <td>37.624601</td>\n",
       "      <td>1.687460</td>\n",
       "      <td>3.172954</td>\n",
       "    </tr>\n",
       "    <tr>\n",
       "      <th>38</th>\n",
       "      <td>South Carolina</td>\n",
       "      <td>4.936353</td>\n",
       "      <td>37.256426</td>\n",
       "      <td>4.758874</td>\n",
       "      <td>1.604651</td>\n",
       "    </tr>\n",
       "    <tr>\n",
       "      <th>39</th>\n",
       "      <td>South Dakota</td>\n",
       "      <td>11.063973</td>\n",
       "      <td>34.389610</td>\n",
       "      <td>0.669312</td>\n",
       "      <td>2.385948</td>\n",
       "    </tr>\n",
       "    <tr>\n",
       "      <th>40</th>\n",
       "      <td>Tennessee</td>\n",
       "      <td>3.551523</td>\n",
       "      <td>45.361862</td>\n",
       "      <td>2.328655</td>\n",
       "      <td>4.878684</td>\n",
       "    </tr>\n",
       "    <tr>\n",
       "      <th>41</th>\n",
       "      <td>Texas</td>\n",
       "      <td>24.084448</td>\n",
       "      <td>36.188445</td>\n",
       "      <td>4.981945</td>\n",
       "      <td>4.579504</td>\n",
       "    </tr>\n",
       "    <tr>\n",
       "      <th>42</th>\n",
       "      <td>Utah</td>\n",
       "      <td>27.298322</td>\n",
       "      <td>41.310233</td>\n",
       "      <td>1.356716</td>\n",
       "      <td>5.471846</td>\n",
       "    </tr>\n",
       "    <tr>\n",
       "      <th>43</th>\n",
       "      <td>Virginia</td>\n",
       "      <td>20.431494</td>\n",
       "      <td>38.053744</td>\n",
       "      <td>10.216913</td>\n",
       "      <td>5.432674</td>\n",
       "    </tr>\n",
       "    <tr>\n",
       "      <th>44</th>\n",
       "      <td>Washington</td>\n",
       "      <td>21.694387</td>\n",
       "      <td>27.748441</td>\n",
       "      <td>1.946058</td>\n",
       "      <td>2.719335</td>\n",
       "    </tr>\n",
       "    <tr>\n",
       "      <th>45</th>\n",
       "      <td>Wisconsin</td>\n",
       "      <td>26.166227</td>\n",
       "      <td>27.321900</td>\n",
       "      <td>8.279683</td>\n",
       "      <td>5.248021</td>\n",
       "    </tr>\n",
       "    <tr>\n",
       "      <th>46</th>\n",
       "      <td>Wyoming</td>\n",
       "      <td>9.710733</td>\n",
       "      <td>41.695376</td>\n",
       "      <td>1.871949</td>\n",
       "      <td>1.286334</td>\n",
       "    </tr>\n",
       "  </tbody>\n",
       "</table>\n",
       "</div>"
      ],
      "text/plain": [
       "                   State    NO2 AQI     O3 AQI    SO2 AQI     CO AQI\n",
       "0                Alabama  21.329450  37.029773   7.095855   3.856311\n",
       "1                 Alaska  19.553191  17.725431  14.487335   6.528340\n",
       "2                Arizona  36.110879  39.004382   4.214693   9.192756\n",
       "3               Arkansas  21.486471  35.035662   2.975773   5.929914\n",
       "4             California  24.339912  35.773237   3.658163   7.464027\n",
       "5               Colorado  35.972034  34.675010  10.634384   7.736236\n",
       "6            Connecticut  18.620579  37.169378   3.258446   3.604698\n",
       "7      Country Of Mexico  37.989060  31.957711   6.565839  17.700525\n",
       "8               Delaware  21.541047  35.400000   2.819835   3.839384\n",
       "9   District Of Columbia  30.670972  33.804525  12.958151  11.648325\n",
       "10               Florida  16.422680  35.991223   2.895456   5.925120\n",
       "11               Georgia  24.143227  34.486920   1.793836   5.273057\n",
       "12                Hawaii   8.653372  26.680028   2.328917   4.489577\n",
       "13                 Idaho  23.304061  35.046103   0.826754   2.868277\n",
       "14              Illinois  28.394472  31.995167  13.146537   6.261019\n",
       "15               Indiana  24.057734  41.589976  14.662694   5.395489\n",
       "16                  Iowa  14.358995  33.901688   1.459765   3.056471\n",
       "17                Kansas  21.578529  34.366427   9.397458   6.542334\n",
       "18              Kentucky  25.167098  43.028213  18.566776   3.179170\n",
       "19             Louisiana  26.745706  34.019103  11.315516   6.312526\n",
       "20                 Maine  11.369052  28.070363   3.036645   3.096475\n",
       "21              Maryland  19.789912  36.868504   7.071696   4.373523\n",
       "22         Massachusetts  29.778324  25.913035   8.007972   5.539959\n",
       "23              Michigan  31.839892  40.017111  17.970912   6.469956\n",
       "24             Minnesota  16.005205  34.084442   1.196562   3.472108\n",
       "25              Missouri  29.170695  41.910911  18.319515   7.413727\n",
       "26                Nevada  24.016579  40.450577   1.133502   3.674927\n",
       "27         New Hampshire  14.661072  34.543361   7.642995   5.073181\n",
       "28            New Jersey  31.673051  34.309030  11.127992   6.437336\n",
       "29            New Mexico  24.491702  41.319831   1.183759   3.484243\n",
       "30              New York  30.591720  31.789282  14.067919   5.659485\n",
       "31        North Carolina  22.615672  44.632609   8.792339   5.679589\n",
       "32          North Dakota  12.427301  29.978581   0.412416   2.053358\n",
       "33                  Ohio  22.353491  31.715634  15.411400   4.012236\n",
       "34              Oklahoma  14.999411  41.076488   3.789957   2.497939\n",
       "35                Oregon  17.241121  25.188615   2.039076   5.313849\n",
       "36          Pennsylvania  23.814352  39.713496  15.802602   3.986883\n",
       "37          Rhode Island  14.447923  37.624601   1.687460   3.172954\n",
       "38        South Carolina   4.936353  37.256426   4.758874   1.604651\n",
       "39          South Dakota  11.063973  34.389610   0.669312   2.385948\n",
       "40             Tennessee   3.551523  45.361862   2.328655   4.878684\n",
       "41                 Texas  24.084448  36.188445   4.981945   4.579504\n",
       "42                  Utah  27.298322  41.310233   1.356716   5.471846\n",
       "43              Virginia  20.431494  38.053744  10.216913   5.432674\n",
       "44            Washington  21.694387  27.748441   1.946058   2.719335\n",
       "45             Wisconsin  26.166227  27.321900   8.279683   5.248021\n",
       "46               Wyoming   9.710733  41.695376   1.871949   1.286334"
      ]
     },
     "execution_count": 8,
     "metadata": {},
     "output_type": "execute_result"
    }
   ],
   "source": [
    "total.head()\n",
    "total.reset_index(level=None, drop=False, inplace=False, col_level=0, col_fill='')"
   ]
  },
  {
   "cell_type": "code",
   "execution_count": 9,
   "metadata": {},
   "outputs": [
    {
     "ename": "DriverError",
     "evalue": "data/cb_2018_us_state_20m/cb_2018_us_state_20m.shp: No such file or directory",
     "output_type": "error",
     "traceback": [
      "\u001b[0;31m---------------------------------------------------------------------------\u001b[0m",
      "\u001b[0;31mCPLE_OpenFailedError\u001b[0m                      Traceback (most recent call last)",
      "\u001b[0;32mfiona/_shim.pyx\u001b[0m in \u001b[0;36mfiona._shim.gdal_open_vector\u001b[0;34m()\u001b[0m\n",
      "\u001b[0;32mfiona/_err.pyx\u001b[0m in \u001b[0;36mfiona._err.exc_wrap_pointer\u001b[0;34m()\u001b[0m\n",
      "\u001b[0;31mCPLE_OpenFailedError\u001b[0m: data/cb_2018_us_state_20m/cb_2018_us_state_20m.shp: No such file or directory",
      "\nDuring handling of the above exception, another exception occurred:\n",
      "\u001b[0;31mDriverError\u001b[0m                               Traceback (most recent call last)",
      "\u001b[0;32m<ipython-input-9-25e83eb54d31>\u001b[0m in \u001b[0;36m<module>\u001b[0;34m\u001b[0m\n\u001b[0;32m----> 1\u001b[0;31m \u001b[0mcontiguous_usa\u001b[0m \u001b[0;34m=\u001b[0m \u001b[0mgpd\u001b[0m\u001b[0;34m.\u001b[0m\u001b[0mread_file\u001b[0m\u001b[0;34m(\u001b[0m\u001b[0;34m'data/cb_2018_us_state_20m/cb_2018_us_state_20m.shp'\u001b[0m\u001b[0;34m)\u001b[0m\u001b[0;34m\u001b[0m\u001b[0;34m\u001b[0m\u001b[0m\n\u001b[0m\u001b[1;32m      2\u001b[0m \u001b[0mcontiguous_usa\u001b[0m\u001b[0;34m.\u001b[0m\u001b[0mhead\u001b[0m\u001b[0;34m(\u001b[0m\u001b[0;34m)\u001b[0m\u001b[0;34m\u001b[0m\u001b[0;34m\u001b[0m\u001b[0m\n",
      "\u001b[0;32m~/anaconda3/lib/python3.7/site-packages/geopandas/io/file.py\u001b[0m in \u001b[0;36mread_file\u001b[0;34m(filename, bbox, mask, rows, **kwargs)\u001b[0m\n\u001b[1;32m     87\u001b[0m \u001b[0;34m\u001b[0m\u001b[0m\n\u001b[1;32m     88\u001b[0m     \u001b[0;32mwith\u001b[0m \u001b[0mfiona_env\u001b[0m\u001b[0;34m(\u001b[0m\u001b[0;34m)\u001b[0m\u001b[0;34m:\u001b[0m\u001b[0;34m\u001b[0m\u001b[0;34m\u001b[0m\u001b[0m\n\u001b[0;32m---> 89\u001b[0;31m         \u001b[0;32mwith\u001b[0m \u001b[0mreader\u001b[0m\u001b[0;34m(\u001b[0m\u001b[0mpath_or_bytes\u001b[0m\u001b[0;34m,\u001b[0m \u001b[0;34m**\u001b[0m\u001b[0mkwargs\u001b[0m\u001b[0;34m)\u001b[0m \u001b[0;32mas\u001b[0m \u001b[0mfeatures\u001b[0m\u001b[0;34m:\u001b[0m\u001b[0;34m\u001b[0m\u001b[0;34m\u001b[0m\u001b[0m\n\u001b[0m\u001b[1;32m     90\u001b[0m \u001b[0;34m\u001b[0m\u001b[0m\n\u001b[1;32m     91\u001b[0m             \u001b[0;31m# In a future Fiona release the crs attribute of features will\u001b[0m\u001b[0;34m\u001b[0m\u001b[0;34m\u001b[0m\u001b[0;34m\u001b[0m\u001b[0m\n",
      "\u001b[0;32m~/anaconda3/lib/python3.7/site-packages/fiona/env.py\u001b[0m in \u001b[0;36mwrapper\u001b[0;34m(*args, **kwargs)\u001b[0m\n\u001b[1;32m    396\u001b[0m     \u001b[0;32mdef\u001b[0m \u001b[0mwrapper\u001b[0m\u001b[0;34m(\u001b[0m\u001b[0;34m*\u001b[0m\u001b[0margs\u001b[0m\u001b[0;34m,\u001b[0m \u001b[0;34m**\u001b[0m\u001b[0mkwargs\u001b[0m\u001b[0;34m)\u001b[0m\u001b[0;34m:\u001b[0m\u001b[0;34m\u001b[0m\u001b[0;34m\u001b[0m\u001b[0m\n\u001b[1;32m    397\u001b[0m         \u001b[0;32mif\u001b[0m \u001b[0mlocal\u001b[0m\u001b[0;34m.\u001b[0m\u001b[0m_env\u001b[0m\u001b[0;34m:\u001b[0m\u001b[0;34m\u001b[0m\u001b[0;34m\u001b[0m\u001b[0m\n\u001b[0;32m--> 398\u001b[0;31m             \u001b[0;32mreturn\u001b[0m \u001b[0mf\u001b[0m\u001b[0;34m(\u001b[0m\u001b[0;34m*\u001b[0m\u001b[0margs\u001b[0m\u001b[0;34m,\u001b[0m \u001b[0;34m**\u001b[0m\u001b[0mkwargs\u001b[0m\u001b[0;34m)\u001b[0m\u001b[0;34m\u001b[0m\u001b[0;34m\u001b[0m\u001b[0m\n\u001b[0m\u001b[1;32m    399\u001b[0m         \u001b[0;32melse\u001b[0m\u001b[0;34m:\u001b[0m\u001b[0;34m\u001b[0m\u001b[0;34m\u001b[0m\u001b[0m\n\u001b[1;32m    400\u001b[0m             \u001b[0;32mif\u001b[0m \u001b[0misinstance\u001b[0m\u001b[0;34m(\u001b[0m\u001b[0margs\u001b[0m\u001b[0;34m[\u001b[0m\u001b[0;36m0\u001b[0m\u001b[0;34m]\u001b[0m\u001b[0;34m,\u001b[0m \u001b[0mstr\u001b[0m\u001b[0;34m)\u001b[0m\u001b[0;34m:\u001b[0m\u001b[0;34m\u001b[0m\u001b[0;34m\u001b[0m\u001b[0m\n",
      "\u001b[0;32m~/anaconda3/lib/python3.7/site-packages/fiona/__init__.py\u001b[0m in \u001b[0;36mopen\u001b[0;34m(fp, mode, driver, schema, crs, encoding, layer, vfs, enabled_drivers, crs_wkt, **kwargs)\u001b[0m\n\u001b[1;32m    252\u001b[0m         \u001b[0;32mif\u001b[0m \u001b[0mmode\u001b[0m \u001b[0;32min\u001b[0m \u001b[0;34m(\u001b[0m\u001b[0;34m'a'\u001b[0m\u001b[0;34m,\u001b[0m \u001b[0;34m'r'\u001b[0m\u001b[0;34m)\u001b[0m\u001b[0;34m:\u001b[0m\u001b[0;34m\u001b[0m\u001b[0;34m\u001b[0m\u001b[0m\n\u001b[1;32m    253\u001b[0m             c = Collection(path, mode, driver=driver, encoding=encoding,\n\u001b[0;32m--> 254\u001b[0;31m                            layer=layer, enabled_drivers=enabled_drivers, **kwargs)\n\u001b[0m\u001b[1;32m    255\u001b[0m         \u001b[0;32melif\u001b[0m \u001b[0mmode\u001b[0m \u001b[0;34m==\u001b[0m \u001b[0;34m'w'\u001b[0m\u001b[0;34m:\u001b[0m\u001b[0;34m\u001b[0m\u001b[0;34m\u001b[0m\u001b[0m\n\u001b[1;32m    256\u001b[0m             \u001b[0;32mif\u001b[0m \u001b[0mschema\u001b[0m\u001b[0;34m:\u001b[0m\u001b[0;34m\u001b[0m\u001b[0;34m\u001b[0m\u001b[0m\n",
      "\u001b[0;32m~/anaconda3/lib/python3.7/site-packages/fiona/collection.py\u001b[0m in \u001b[0;36m__init__\u001b[0;34m(self, path, mode, driver, schema, crs, encoding, layer, vsi, archive, enabled_drivers, crs_wkt, ignore_fields, ignore_geometry, **kwargs)\u001b[0m\n\u001b[1;32m    152\u001b[0m             \u001b[0;32mif\u001b[0m \u001b[0mself\u001b[0m\u001b[0;34m.\u001b[0m\u001b[0mmode\u001b[0m \u001b[0;34m==\u001b[0m \u001b[0;34m'r'\u001b[0m\u001b[0;34m:\u001b[0m\u001b[0;34m\u001b[0m\u001b[0;34m\u001b[0m\u001b[0m\n\u001b[1;32m    153\u001b[0m                 \u001b[0mself\u001b[0m\u001b[0;34m.\u001b[0m\u001b[0msession\u001b[0m \u001b[0;34m=\u001b[0m \u001b[0mSession\u001b[0m\u001b[0;34m(\u001b[0m\u001b[0;34m)\u001b[0m\u001b[0;34m\u001b[0m\u001b[0;34m\u001b[0m\u001b[0m\n\u001b[0;32m--> 154\u001b[0;31m                 \u001b[0mself\u001b[0m\u001b[0;34m.\u001b[0m\u001b[0msession\u001b[0m\u001b[0;34m.\u001b[0m\u001b[0mstart\u001b[0m\u001b[0;34m(\u001b[0m\u001b[0mself\u001b[0m\u001b[0;34m,\u001b[0m \u001b[0;34m**\u001b[0m\u001b[0mkwargs\u001b[0m\u001b[0;34m)\u001b[0m\u001b[0;34m\u001b[0m\u001b[0;34m\u001b[0m\u001b[0m\n\u001b[0m\u001b[1;32m    155\u001b[0m             \u001b[0;32melif\u001b[0m \u001b[0mself\u001b[0m\u001b[0;34m.\u001b[0m\u001b[0mmode\u001b[0m \u001b[0;32min\u001b[0m \u001b[0;34m(\u001b[0m\u001b[0;34m'a'\u001b[0m\u001b[0;34m,\u001b[0m \u001b[0;34m'w'\u001b[0m\u001b[0;34m)\u001b[0m\u001b[0;34m:\u001b[0m\u001b[0;34m\u001b[0m\u001b[0;34m\u001b[0m\u001b[0m\n\u001b[1;32m    156\u001b[0m                 \u001b[0mself\u001b[0m\u001b[0;34m.\u001b[0m\u001b[0msession\u001b[0m \u001b[0;34m=\u001b[0m \u001b[0mWritingSession\u001b[0m\u001b[0;34m(\u001b[0m\u001b[0;34m)\u001b[0m\u001b[0;34m\u001b[0m\u001b[0;34m\u001b[0m\u001b[0m\n",
      "\u001b[0;32mfiona/ogrext.pyx\u001b[0m in \u001b[0;36mfiona.ogrext.Session.start\u001b[0;34m()\u001b[0m\n",
      "\u001b[0;32mfiona/_shim.pyx\u001b[0m in \u001b[0;36mfiona._shim.gdal_open_vector\u001b[0;34m()\u001b[0m\n",
      "\u001b[0;31mDriverError\u001b[0m: data/cb_2018_us_state_20m/cb_2018_us_state_20m.shp: No such file or directory"
     ]
    }
   ],
   "source": [
    "contiguous_usa = gpd.read_file('data/cb_2018_us_state_20m/cb_2018_us_state_20m.shp')\n",
    "contiguous_usa.head()"
   ]
  },
  {
   "cell_type": "code",
   "execution_count": null,
   "metadata": {},
   "outputs": [],
   "source": [
    "contiguous_usa=contiguous_usa.rename(columns={'NAME': 'State'})\n"
   ]
  },
  {
   "cell_type": "code",
   "execution_count": null,
   "metadata": {},
   "outputs": [],
   "source": [
    "contiguous_usa.head()"
   ]
  },
  {
   "cell_type": "code",
   "execution_count": null,
   "metadata": {},
   "outputs": [],
   "source": [
    "merged = pd.merge(contiguous_usa, total, left_on='State', right_on='State')"
   ]
  },
  {
   "cell_type": "code",
   "execution_count": null,
   "metadata": {},
   "outputs": [],
   "source": [
    "merged = merged[['NO2 AQI', 'O3 AQI', 'SO2 AQI', 'CO AQI', 'State','geometry']]\n",
    "merged = merged.loc[~merged['State'].isin(['Alaska', 'Hawaii'])]\n",
    "merged.rename(columns = {'NO2 AQI':'NO2_AQI'})"
   ]
  },
  {
   "cell_type": "code",
   "execution_count": null,
   "metadata": {},
   "outputs": [],
   "source": [
    "import json\n",
    "from bokeh.io import show\n",
    "from bokeh.models import (CDSView, ColorBar, ColumnDataSource,\n",
    "                          CustomJS, CustomJSFilter, \n",
    "                          GeoJSONDataSource, HoverTool,\n",
    "                          LinearColorMapper, Slider)\n",
    "from bokeh.layouts import column, row, widgetbox\n",
    "from bokeh.palettes import brewer\n",
    "from bokeh.plotting import figure\n",
    "# Input GeoJSON source that contains features for plotting\n",
    "geosource = GeoJSONDataSource(geojson = merged.to_json())"
   ]
  },
  {
   "cell_type": "code",
   "execution_count": null,
   "metadata": {},
   "outputs": [],
   "source": [
    "# Define color palettes\n",
    "palette = brewer['BuGn'][8]\n",
    "palette = palette[::-1] # reverse order of colors so higher values have darker colors\n",
    "# Instantiate LinearColorMapper that linearly maps numbers in a range, into a sequence of colors.\n",
    "color_mapper = LinearColorMapper(palette = palette, low = 0, high = 40)\n",
    "# Define custom tick labels for color bar.\n",
    "tick_labels = {'0':'0','3': '3', '5': '5',\n",
    " '10':'10', '15':'15',\n",
    " '20':'20', '25':'25',\n",
    " '30':'30', '35':'35+'}\n",
    "# Create color bar.\n",
    "color_bar = ColorBar(color_mapper = color_mapper, \n",
    "                     label_standoff = 8,\n",
    "                     width = 500, height = 20,\n",
    "                     border_line_color = None,\n",
    "                     location = (0,0), \n",
    "                     orientation = 'horizontal',\n",
    "                     major_label_overrides = tick_labels)\n",
    "\n",
    "# Create figure object.\n",
    "p = figure(title = 'Average Air Pollution Levels, 2000-2016', \n",
    "           plot_height = 600 ,\n",
    "           plot_width = 950, \n",
    "           toolbar_location = 'below',\n",
    "           tools = 'pan,wheel_zoom, box_zoom, reset')\n",
    "p.xgrid.grid_line_color = None\n",
    "p.ygrid.grid_line_color = None\n",
    "# Add patch renderer to figure.\n",
    "states = p.patches('xs','ys', source = geosource,\n",
    "                   fill_color = {'field':'NO2_AQI', 'transform': color_mapper},\n",
    "                   line_color = 'black', \n",
    "                   line_width = 0.25, \n",
    "                   fill_alpha = 1)\n",
    "# Create hover tool\n",
    "p.add_tools(HoverTool(renderers = [states],\n",
    "                      tooltips = [('State','@State'),\n",
    "                                ('NO2_AQI','@NO2_AQI')]))\n",
    "p.add_layout(color_bar, 'below')\n",
    "show(p)"
   ]
  },
  {
   "cell_type": "code",
   "execution_count": null,
   "metadata": {},
   "outputs": [],
   "source": []
  },
  {
   "cell_type": "code",
   "execution_count": 31,
   "metadata": {},
   "outputs": [],
   "source": [
    "# Added bins for AQI rating scale\n",
    "purged['SO2 AQI Level'] = pd.cut(purged['SO2 AQI'], bins=[0,50,100,150,200,300,500], labels = ['Good','Moderate','Unhealthy for Sensitive Groups','Unhealthy','Very Unhealthy','Hazardous'])\n",
    "purged['NO2 AQI Level'] = pd.cut(purged['NO2 AQI'], bins=[0,50,100,150,200,300,500], labels = ['Good','Moderate','Unhealthy for Sensitive Groups','Unhealthy','Very Unhealthy','Hazardous'])\n",
    "purged['O3 AQI Level'] = pd.cut(purged['O3 AQI'], bins=[0,50,100,150,200,300,500], labels = ['Good','Moderate','Unhealthy for Sensitive Groups','Unhealthy','Very Unhealthy','Hazardous'])\n",
    "purged['CO AQI Level'] = pd.cut(purged['CO AQI'], bins=[0,50,100,150,200,300,500], labels = ['Good','Moderate','Unhealthy for Sensitive Groups','Unhealthy','Very Unhealthy','Hazardous'])"
   ]
  },
  {
   "cell_type": "code",
   "execution_count": null,
   "metadata": {},
   "outputs": [],
   "source": [
    "#purged['Date Local']=pd.to_datetime(purged['Date Local'])"
   ]
  },
  {
   "cell_type": "code",
   "execution_count": null,
   "metadata": {},
   "outputs": [],
   "source": [
    "purged.head()"
   ]
  },
  {
   "cell_type": "code",
   "execution_count": null,
   "metadata": {},
   "outputs": [],
   "source": []
  },
  {
   "cell_type": "code",
   "execution_count": null,
   "metadata": {},
   "outputs": [],
   "source": [
    "aqi = purged[['Date Local','SO2 AQI Level','NO2 AQI Level','O3 AQI Level','CO AQI Level']]"
   ]
  },
  {
   "cell_type": "code",
   "execution_count": null,
   "metadata": {},
   "outputs": [],
   "source": [
    "aqi['year'] = aqi['Date Local'].apply(lambda x: x[:4])"
   ]
  },
  {
   "cell_type": "code",
   "execution_count": null,
   "metadata": {},
   "outputs": [],
   "source": [
    "aqi.drop(['Date Local'],axis=1)"
   ]
  },
  {
   "cell_type": "code",
   "execution_count": null,
   "metadata": {},
   "outputs": [],
   "source": [
    "test = aqi.agg({'SO2 AQI Level':'value_counts','NO2 AQI Level':'value_counts','O3 AQI Level':'value_counts','CO AQI Level':'value_counts'})"
   ]
  },
  {
   "cell_type": "code",
   "execution_count": null,
   "metadata": {},
   "outputs": [],
   "source": [
    "groups = ['Good','Moderate','Unhealthy for Sensitive Groups','Unhealthy','Very Unhealthy','Hazardous']\n",
    "cols = [O2 AQI Leve]\n",
    "test_list = []\n",
    "for col in cols:\n",
    "    for i in groups:\n",
    "        test_list.append((col, aqi[col].value_counts()))"
   ]
  },
  {
   "cell_type": "code",
   "execution_count": null,
   "metadata": {},
   "outputs": [],
   "source": [
    "test.head()"
   ]
  },
  {
   "cell_type": "code",
   "execution_count": null,
   "metadata": {
    "scrolled": true
   },
   "outputs": [],
   "source": [
    "test.index"
   ]
  },
  {
   "cell_type": "code",
   "execution_count": null,
   "metadata": {},
   "outputs": [],
   "source": [
    "#year by year number of grouped days\n",
    "fig, axs = plt.subplots(4,1,figsize=(20,20))\n",
    "\n",
    "cols = ['SO2 AQI Level','NO2 AQI Level','O3 AQI Level','CO AQI Level']\n",
    "axs=axs.flatten()\n",
    "for i, col in enumerate(cols):   \n",
    "    axs[i].bar(test.index,test[col], width=.8,)\n",
    "    axs[i].set_title(col)\n",
    "    axs[i].set_yscale('log')\n",
    "fig.tight_layout() "
   ]
  },
  {
   "cell_type": "code",
   "execution_count": null,
   "metadata": {},
   "outputs": [],
   "source": [
    "test.plot.bar();\n",
    "plt.ylabel('Log Days in Category')\n",
    "plt.yscale('log')"
   ]
  },
  {
   "cell_type": "code",
   "execution_count": null,
   "metadata": {},
   "outputs": [],
   "source": [
    "cols = ['NO2 Mean', 'NO2 1st Max Value', 'NO2 1st Max Hour', 'NO2 AQI',\n",
    "       'O3 Mean', 'O3 1st Max Value', 'O3 1st Max Hour', 'O3 AQI', 'SO2 Mean',\n",
    "       'SO2 1st Max Value', 'SO2 1st Max Hour', 'SO2 AQI', 'CO Mean',\n",
    "       'CO 1st Max Value', 'CO 1st Max Hour', 'CO AQI']\n",
    "fig, axs = plt.subplots(16,1,figsize=(10,20))\n",
    "\n",
    "axs=axs.flatten()\n",
    "for i, col in enumerate(cols):   \n",
    "    axs[i].plot(s.index,s[col])\n",
    "    axs[i].set_title(col)\n",
    "    axs[i].set_xticklabels(labels=s.index,rotation=45)\n"
   ]
  },
  {
   "cell_type": "code",
   "execution_count": 26,
   "metadata": {},
   "outputs": [],
   "source": [
    "purged['year'] = purged['Date Local'].apply(lambda x: x[:4])"
   ]
  },
  {
   "cell_type": "code",
   "execution_count": null,
   "metadata": {},
   "outputs": [],
   "source": [
    "year = purged[['State',\n",
    "         'NO2 Mean', 'NO2 AQI',\n",
    "       'O3 Mean','O3 AQI',\n",
    "       'SO2 Mean','SO2 AQI',\n",
    "        'CO Mean','CO AQI', 'year']].copy()"
   ]
  },
  {
   "cell_type": "code",
   "execution_count": null,
   "metadata": {},
   "outputs": [],
   "source": [
    "# Mean pollutants\n",
    "y = year.groupby(['year','State']).agg({'NO2 Mean':'mean',\n",
    "       'NO2 AQI':'mean',\n",
    "       'O3 Mean':'mean', 'O3 AQI':'mean',\n",
    "       'SO2 Mean':'mean', 'SO2 AQI':'mean',\n",
    "        'CO Mean':'mean', 'CO AQI':'mean'})"
   ]
  },
  {
   "cell_type": "code",
   "execution_count": null,
   "metadata": {},
   "outputs": [],
   "source": [
    "year"
   ]
  },
  {
   "cell_type": "code",
   "execution_count": null,
   "metadata": {},
   "outputs": [],
   "source": [
    "y"
   ]
  },
  {
   "cell_type": "code",
   "execution_count": null,
   "metadata": {},
   "outputs": [],
   "source": [
    "states=year['State'].unique()"
   ]
  },
  {
   "cell_type": "code",
   "execution_count": null,
   "metadata": {},
   "outputs": [],
   "source": [
    "for state in states:\n",
    "    state = year[(year[['State']]==state).any(1)]"
   ]
  },
  {
   "cell_type": "code",
   "execution_count": null,
   "metadata": {},
   "outputs": [],
   "source": []
  },
  {
   "cell_type": "code",
   "execution_count": null,
   "metadata": {},
   "outputs": [],
   "source": []
  },
  {
   "cell_type": "code",
   "execution_count": null,
   "metadata": {},
   "outputs": [],
   "source": [
    "state = purged[[\n",
    "       'State', 'NO2 Mean',\n",
    "       'NO2 1st Max Value', 'NO2 1st Max Hour', 'NO2 AQI',\n",
    "       'O3 Mean', 'O3 1st Max Value', 'O3 1st Max Hour', 'O3 AQI',\n",
    "       'SO2 Mean', 'SO2 1st Max Value', 'SO2 1st Max Hour', 'SO2 AQI',\n",
    "        'CO Mean', 'CO 1st Max Value', 'CO 1st Max Hour', 'CO AQI']].copy()"
   ]
  },
  {
   "cell_type": "code",
   "execution_count": null,
   "metadata": {},
   "outputs": [],
   "source": [
    "# Mean pollutants\n",
    "s = state.groupby('State').agg({'NO2 Mean':'mean',\n",
    "       'NO2 1st Max Value':'mean', 'NO2 1st Max Hour':'mean', 'NO2 AQI':'mean',\n",
    "       'O3 Mean':'mean', 'O3 1st Max Value':'mean', 'O3 1st Max Hour':'mean', 'O3 AQI':'mean',\n",
    "       'SO2 Mean':'mean', 'SO2 1st Max Value':'mean', 'SO2 1st Max Hour':'mean', 'SO2 AQI':'mean',\n",
    "        'CO Mean':'mean', 'CO 1st Max Value':'mean', 'CO 1st Max Hour':'mean', 'CO AQI':'mean'})"
   ]
  },
  {
   "cell_type": "code",
   "execution_count": null,
   "metadata": {},
   "outputs": [],
   "source": [
    "montana = pd.Series([0,0,0,0,0,0,0,0,0,0,0,0,0,0,0,0])\n",
    "vermont = pd.Series([0,0,0,0,0,0,0,0,0,0,0,0,0,0,0,0])\n",
    "mississippi = pd.Series([0,0,0,0,0,0,0,0,0,0,0,0,0,0,0,0])\n",
    "add_states = pd.DataFrame([montana, vermont, mississippi],index = ['Montana', 'Vermont', 'Mississippi'])\n",
    "add_states\n",
    "\n",
    "add_states = add_states.rename(columns={0:'NO2 Mean', 1:'NO2 1st Max Value', 2:'NO2 1st Max Hour', 3:'NO2 AQI',\n",
    "       4:'O3 Mean', 5:'O3 1st Max Value', 6:'O3 1st Max Hour', 7:'O3 AQI', 8:'SO2 Mean',\n",
    "       9:'SO2 1st Max Value', 10:'SO2 1st Max Hour', 11:'SO2 AQI', 12:'CO Mean',\n",
    "       13:'CO 1st Max Value', 14:'CO 1st Max Hour', 15:'CO AQI'})"
   ]
  },
  {
   "cell_type": "code",
   "execution_count": null,
   "metadata": {},
   "outputs": [],
   "source": [
    "s2 = s.append(add_states)\n",
    "s2"
   ]
  },
  {
   "cell_type": "code",
   "execution_count": null,
   "metadata": {},
   "outputs": [],
   "source": [
    "# set the filepath and load in a shapefile\n",
    "fp = '/home/slindhult/assignments/Capstone-1/data/cb_2018_us_state_20m/cb_2018_us_state_20m.shp'\n",
    "map_df = gpd.read_file(fp)\n",
    "# check data type so we can see that this is not a normal dataframe, but a GEOdataframe\n",
    "map_df.head()"
   ]
  },
  {
   "cell_type": "code",
   "execution_count": null,
   "metadata": {},
   "outputs": [],
   "source": [
    "map_df.iloc[27]"
   ]
  },
  {
   "cell_type": "code",
   "execution_count": null,
   "metadata": {},
   "outputs": [],
   "source": [
    "merged = pd.merge(s, map_df, left_on='State', right_on='NAME')"
   ]
  },
  {
   "cell_type": "code",
   "execution_count": null,
   "metadata": {},
   "outputs": [],
   "source": [
    "merged = merged.loc[~merged['NAME'].isin(['Alaska', 'Hawaii'])]"
   ]
  },
  {
   "cell_type": "code",
   "execution_count": null,
   "metadata": {},
   "outputs": [],
   "source": [
    "# set a variable that will call whatever column we want to visualise on the map\n",
    "variable = 'NO2 Mean'\n",
    "# set the range for the choropleth\n",
    "vmin, vmax = 0, 140\n",
    "# create figure and axes for Matplotlib\n",
    "fig, ax = plt.subplots(1, figsize=(10, 6))\n",
    "\n",
    "joined.plot(column=variable, cmap='Blues', linewidth=0.8, ax=ax, edgecolor='0.8')"
   ]
  },
  {
   "cell_type": "code",
   "execution_count": null,
   "metadata": {},
   "outputs": [],
   "source": [
    "map_df.plot()"
   ]
  },
  {
   "cell_type": "code",
   "execution_count": null,
   "metadata": {},
   "outputs": [],
   "source": [
    "\n",
    "joined = map_df.set_index('NAME').join(s2)\n",
    "joined.shape\n"
   ]
  },
  {
   "cell_type": "code",
   "execution_count": null,
   "metadata": {},
   "outputs": [],
   "source": [
    "joined = joined.loc[~joined.index.isin(['Alaska', 'Hawaii'])]"
   ]
  },
  {
   "cell_type": "code",
   "execution_count": null,
   "metadata": {},
   "outputs": [],
   "source": [
    "# select a variable to map\n",
    "variable = 'NO2 Mean'\n",
    "# set the range for the choropleth\n",
    "vmin, vmax = 0, 140\n",
    "# create figure and axes for Matplotlib\n",
    "fig, ax = plt.subplots(1, figsize=(10, 6))\n",
    "joined.plot(column=variable, cmap='Blues', linewidth=0.8, ax=ax, edgecolor='0.8');\n",
    "ax.axis('off')\n",
    "\n",
    "\n",
    "# add a title\n",
    "ax.set_title('Average NO2 Emissions', fontdict={'fontsize': '25', 'fontweight' : '3'})\n",
    "# create an annotation for the data source\n",
    "ax.annotate('Source: US EPA, 2000-2016',xy=(0.1, .08),  xycoords='figure fraction', horizontalalignment='left', verticalalignment='center', fontsize=12, color='#555555')\n",
    "\n",
    "# Create colorbar as a legend\n",
    "sm = plt.cm.ScalarMappable(cmap='Blues', norm=plt.Normalize(vmin=vmin, vmax=vmax))\n",
    "# empty array for the data range\n",
    "sm._A = []\n",
    "# add the colorbar to the figure\n",
    "cbar = fig.colorbar(sm)"
   ]
  },
  {
   "cell_type": "code",
   "execution_count": null,
   "metadata": {},
   "outputs": [],
   "source": [
    "joined.shape"
   ]
  },
  {
   "cell_type": "code",
   "execution_count": null,
   "metadata": {},
   "outputs": [],
   "source": [
    "s2['Total'] = s2['NO2 AQI'] + s2['O3 AQI'] + s2['CO AQI'] + s2['SO2 AQI']"
   ]
  },
  {
   "cell_type": "code",
   "execution_count": null,
   "metadata": {},
   "outputs": [],
   "source": [
    "s2.sort_values('Total', ascending=False)"
   ]
  },
  {
   "cell_type": "code",
   "execution_count": null,
   "metadata": {},
   "outputs": [],
   "source": [
    "s3 = s.copy()\n",
    "s3['SO2 Mean'] = s3['SO2 Mean']/1000\n",
    "s3['NO2 Mean'] = s3['NO2 Mean']/1000\n",
    "s3"
   ]
  },
  {
   "cell_type": "code",
   "execution_count": null,
   "metadata": {},
   "outputs": [],
   "source": [
    "\n",
    "#different units\n",
    "\n",
    "width = 0.35       \n",
    "\n",
    "fig, ax = plt.subplots(figsize=(18,8))\n",
    "\n",
    "ax.bar(s.index, s['NO2 Mean'], width, label='NO2')\n",
    "ax.bar(s.index, s['SO2 Mean'], width, bottom=s['NO2 Mean'],\n",
    "       label='SO2')\n",
    "ax.bar(s.index, s['CO Mean'], width, bottom = (s['NO2 Mean'] + s['SO2 Mean']), label='CO')\n",
    "ax.bar(s.index, s['O3 Mean'], width, bottom=(s['NO2 Mean'] + s['SO2 Mean'] +s['CO Mean']),\n",
    "       label='O3')\n",
    "\n",
    "ax.set_ylabel('Sum of Pollutants')\n",
    "ax.set_title('Total Air Pollutants by State')\n",
    "ax.legend()\n",
    "ax.set_xticklabels(labels=s2.index,rotation=90)\n",
    "fig.tight_layout() \n",
    "plt.show()"
   ]
  },
  {
   "cell_type": "code",
   "execution_count": null,
   "metadata": {},
   "outputs": [],
   "source": [
    "#corrected units to PPM\n",
    "width = 0.35       \n",
    "\n",
    "fig, ax = plt.subplots(figsize=(18,8))\n",
    "\n",
    "ax.bar(s3.index, s3['NO2 Mean'], width, label='NO2')\n",
    "ax.bar(s3.index, s3['SO2 Mean'], width, bottom=s3['NO2 Mean'],\n",
    "       label='SO2')\n",
    "ax.bar(s3.index, s3['CO Mean'], width, bottom = (s3['NO2 Mean'] + s3['SO2 Mean']), label='CO')\n",
    "ax.bar(s3.index, s3['O3 Mean'], width, bottom=(s3['NO2 Mean'] + s3['SO2 Mean'] +s3['CO Mean']),\n",
    "       label='O3')\n",
    "\n",
    "ax.set_ylabel('Sum of Pollutants')\n",
    "ax.set_title('Total Air Pollutants by State')\n",
    "ax.legend()\n",
    "ax.set_xticklabels(labels=s2.index,rotation=90)\n",
    "fig.tight_layout() \n",
    "plt.show()"
   ]
  },
  {
   "cell_type": "code",
   "execution_count": 10,
   "metadata": {},
   "outputs": [
    {
     "name": "stdout",
     "output_type": "stream",
     "text": [
      "0.3481860267850431\n",
      "0.6418281040063403\n",
      "-0.4326501374370645\n"
     ]
    }
   ],
   "source": [
    "NO2corrSO2 = data['NO2 Mean'].corr(data['SO2 Mean'])\n",
    "NO2corrCO = data['NO2 Mean'].corr(data['CO Mean'])\n",
    "NO2corrO3 = data['NO2 Mean'].corr(data['O3 Mean'])\n",
    "print(NO2corrSO2)\n",
    "print(NO2corrCO)\n",
    "print(NO2corrO3)"
   ]
  },
  {
   "cell_type": "code",
   "execution_count": 11,
   "metadata": {},
   "outputs": [
    {
     "name": "stdout",
     "output_type": "stream",
     "text": [
      "-0.11040144027590058\n",
      "0.21521637584882228\n"
     ]
    }
   ],
   "source": [
    "SO2corrSO2 = data['SO2 Mean'].corr(data['O3 Mean'])\n",
    "SO2corrCO = data['SO2 Mean'].corr(data['CO Mean'])\n",
    "print(SO2corrSO2)\n",
    "print(SO2corrCO)"
   ]
  },
  {
   "cell_type": "code",
   "execution_count": 12,
   "metadata": {},
   "outputs": [
    {
     "name": "stdout",
     "output_type": "stream",
     "text": [
      "-0.33942643019387436\n"
     ]
    }
   ],
   "source": [
    "COcorrO3 = data['CO Mean'].corr(data['O3 Mean'])\n",
    "print(COcorrO3)"
   ]
  },
  {
   "cell_type": "code",
   "execution_count": 13,
   "metadata": {},
   "outputs": [
    {
     "data": {
      "text/plain": [
       "(1722197, 29)"
      ]
     },
     "execution_count": 13,
     "metadata": {},
     "output_type": "execute_result"
    }
   ],
   "source": [
    "purged.shape"
   ]
  },
  {
   "cell_type": "code",
   "execution_count": 14,
   "metadata": {},
   "outputs": [
    {
     "data": {
      "text/plain": [
       "Unnamed: 0           False\n",
       "State Code           False\n",
       "County Code          False\n",
       "Site Num             False\n",
       "Address              False\n",
       "State                False\n",
       "County               False\n",
       "City                 False\n",
       "Date Local           False\n",
       "NO2 Units            False\n",
       "NO2 Mean             False\n",
       "NO2 1st Max Value    False\n",
       "NO2 1st Max Hour     False\n",
       "NO2 AQI              False\n",
       "O3 Units             False\n",
       "O3 Mean              False\n",
       "O3 1st Max Value     False\n",
       "O3 1st Max Hour      False\n",
       "O3 AQI               False\n",
       "SO2 Units            False\n",
       "SO2 Mean             False\n",
       "SO2 1st Max Value    False\n",
       "SO2 1st Max Hour     False\n",
       "SO2 AQI               True\n",
       "CO Units             False\n",
       "CO Mean              False\n",
       "CO 1st Max Value     False\n",
       "CO 1st Max Hour      False\n",
       "CO AQI                True\n",
       "dtype: bool"
      ]
     },
     "execution_count": 14,
     "metadata": {},
     "output_type": "execute_result"
    }
   ],
   "source": [
    "purged.isnull().any(axis=0)"
   ]
  },
  {
   "cell_type": "code",
   "execution_count": 15,
   "metadata": {},
   "outputs": [],
   "source": [
    "import numpy as np\n",
    "COindex = purged['CO AQI'].index[purged['CO AQI'].apply(np.isnan)]"
   ]
  },
  {
   "cell_type": "code",
   "execution_count": 16,
   "metadata": {},
   "outputs": [
    {
     "data": {
      "text/plain": [
       "861067"
      ]
     },
     "execution_count": 16,
     "metadata": {},
     "output_type": "execute_result"
    }
   ],
   "source": [
    "len(COindex)"
   ]
  },
  {
   "cell_type": "code",
   "execution_count": 17,
   "metadata": {},
   "outputs": [
    {
     "ename": "NameError",
     "evalue": "name 'index' is not defined",
     "output_type": "error",
     "traceback": [
      "\u001b[0;31m---------------------------------------------------------------------------\u001b[0m",
      "\u001b[0;31mNameError\u001b[0m                                 Traceback (most recent call last)",
      "\u001b[0;32m<ipython-input-17-18bf05be3c1a>\u001b[0m in \u001b[0;36m<module>\u001b[0;34m\u001b[0m\n\u001b[0;32m----> 1\u001b[0;31m \u001b[0mlen\u001b[0m\u001b[0;34m(\u001b[0m\u001b[0;34m[\u001b[0m\u001b[0mi\u001b[0m \u001b[0;32mfor\u001b[0m \u001b[0mi\u001b[0m \u001b[0;32min\u001b[0m \u001b[0mindex\u001b[0m \u001b[0;32mif\u001b[0m \u001b[0mi\u001b[0m\u001b[0;34m<\u001b[0m\u001b[0;36m860000\u001b[0m\u001b[0;34m]\u001b[0m\u001b[0;34m)\u001b[0m\u001b[0;34m\u001b[0m\u001b[0;34m\u001b[0m\u001b[0m\n\u001b[0m",
      "\u001b[0;31mNameError\u001b[0m: name 'index' is not defined"
     ]
    }
   ],
   "source": [
    "len([i for i in index if i<860000])"
   ]
  },
  {
   "cell_type": "code",
   "execution_count": 18,
   "metadata": {},
   "outputs": [],
   "source": [
    "import numpy as np\n",
    "SO2index = purged['SO2 AQI'].index[purged['SO2 AQI'].apply(np.isnan)]"
   ]
  },
  {
   "cell_type": "code",
   "execution_count": 21,
   "metadata": {},
   "outputs": [
    {
     "data": {
      "text/plain": [
       "429889"
      ]
     },
     "execution_count": 21,
     "metadata": {},
     "output_type": "execute_result"
    }
   ],
   "source": [
    "len([i for i in SO2index if i<860000])"
   ]
  },
  {
   "cell_type": "code",
   "execution_count": 22,
   "metadata": {},
   "outputs": [],
   "source": [
    "purged = a[(a[['NO2 Mean',\n",
    "       'NO2 1st Max Value', 'NO2 1st Max Hour', 'NO2 AQI', \n",
    "       'O3 Mean', 'O3 1st Max Value', 'O3 1st Max Hour', 'O3 AQI',\n",
    "       'SO2 Mean', 'SO2 1st Max Value', 'SO2 1st Max Hour',\n",
    "       'CO Mean', 'CO 1st Max Value', 'CO 1st Max Hour']] >=0).all(1)]"
   ]
  },
  {
   "cell_type": "code",
   "execution_count": 23,
   "metadata": {},
   "outputs": [],
   "source": [
    "coaqi = [i for i in purged['CO AQI'] if str(i) != 'nan' ]"
   ]
  },
  {
   "cell_type": "code",
   "execution_count": null,
   "metadata": {},
   "outputs": [],
   "source": [
    "\n"
   ]
  },
  {
   "cell_type": "code",
   "execution_count": 33,
   "metadata": {},
   "outputs": [
    {
     "data": {
      "text/plain": [
       "17.433767511228094"
      ]
     },
     "execution_count": 33,
     "metadata": {},
     "output_type": "execute_result"
    }
   ],
   "source": [
    "start = purged[(purged[['year']] == '2000').any(1)]\n",
    "np.mean(start['NO2 Mean'])"
   ]
  },
  {
   "cell_type": "code",
   "execution_count": 34,
   "metadata": {},
   "outputs": [
    {
     "data": {
      "text/plain": [
       "9.567855763099407"
      ]
     },
     "execution_count": 34,
     "metadata": {},
     "output_type": "execute_result"
    }
   ],
   "source": [
    "end = purged[(purged[['year']] == '2015').any(1)]\n",
    "np.mean(end['NO2 Mean'])"
   ]
  },
  {
   "cell_type": "code",
   "execution_count": null,
   "metadata": {},
   "outputs": [],
   "source": [
    "#t-test each column 2000 vs 2016\n",
    "\n",
    "#H0\n",
    "#Ha"
   ]
  },
  {
   "cell_type": "code",
   "execution_count": 38,
   "metadata": {},
   "outputs": [],
   "source": [
    "tvalue_list = []\n",
    "def tvalue(df1, df2, col):\n",
    "    return col, (np.mean(df1[col]) - np.mean(df2[col]))/ np.sqrt(np.var(df1[col]/len([i for i in df1[col] if str(i) != 'nan' ])) + np.var(df2[col]/len([i for i in df2[col] if str(i) != 'nan' ])))"
   ]
  },
  {
   "cell_type": "code",
   "execution_count": null,
   "metadata": {},
   "outputs": [],
   "source": [
    "tvalue(start,end,'NO2 Mean')"
   ]
  },
  {
   "cell_type": "code",
   "execution_count": 35,
   "metadata": {},
   "outputs": [],
   "source": [
    "start = start.drop(['Unnamed: 0', 'State Code', 'County Code', 'Site Num', 'Address',\n",
    "       'State', 'County', 'City', 'Date Local',\n",
    "       'SO2 AQI Level', 'NO2 AQI Level', 'O3 AQI Level', 'CO AQI Level',\n",
    "       'year', 'NO2 Units', 'SO2 Units', 'O3 Units', 'CO Units', 'NO2 1st Max Hour', 'SO2 1st Max Hour', 'O3 1st Max Hour', 'CO 1st Max Hour'], axis=1)"
   ]
  },
  {
   "cell_type": "code",
   "execution_count": 36,
   "metadata": {},
   "outputs": [],
   "source": [
    "end = end.drop(['Unnamed: 0', 'State Code', 'County Code', 'Site Num', 'Address',\n",
    "       'State', 'County', 'City', 'Date Local',\n",
    "       'SO2 AQI Level', 'NO2 AQI Level', 'O3 AQI Level', 'CO AQI Level',\n",
    "       'year', 'NO2 Units', 'SO2 Units', 'O3 Units', 'CO Units', 'NO2 1st Max Hour', 'SO2 1st Max Hour', 'O3 1st Max Hour', 'CO 1st Max Hour'], axis=1)"
   ]
  },
  {
   "cell_type": "code",
   "execution_count": 39,
   "metadata": {},
   "outputs": [],
   "source": [
    "for col in cols_list:\n",
    "    tvalue_list.append(tvalue(start,end,col))"
   ]
  },
  {
   "cell_type": "code",
   "execution_count": 37,
   "metadata": {},
   "outputs": [],
   "source": [
    "cols_list = start.columns"
   ]
  },
  {
   "cell_type": "code",
   "execution_count": 40,
   "metadata": {},
   "outputs": [
    {
     "data": {
      "text/plain": [
       "[('NO2 Mean', 55981.89452838253),\n",
       " ('NO2 1st Max Value', 53523.40520805049),\n",
       " ('NO2 AQI', 56374.3885624325),\n",
       " ('O3 Mean', -13712.40425582824),\n",
       " ('O3 1st Max Value', 4601.569888732709),\n",
       " ('O3 AQI', -4790.517794486863),\n",
       " ('SO2 Mean', 62747.8022896219),\n",
       " ('SO2 1st Max Value', 55454.211974122096),\n",
       " ('SO2 AQI', 30799.27035790648),\n",
       " ('CO Mean', 50213.87127029844),\n",
       " ('CO 1st Max Value', 47934.67950596799),\n",
       " ('CO AQI', 25049.305742144203)]"
      ]
     },
     "execution_count": 40,
     "metadata": {},
     "output_type": "execute_result"
    }
   ],
   "source": [
    "tvalue_list"
   ]
  },
  {
   "cell_type": "code",
   "execution_count": 47,
   "metadata": {},
   "outputs": [
    {
     "data": {
      "text/plain": [
       "(array([5.452e+03, 6.190e+03, 7.622e+03, 8.687e+03, 8.419e+03, 8.126e+03,\n",
       "        6.996e+03, 6.648e+03, 5.872e+03, 5.704e+03, 5.140e+03, 4.688e+03,\n",
       "        4.208e+03, 3.680e+03, 3.518e+03, 3.290e+03, 2.914e+03, 2.538e+03,\n",
       "        2.336e+03, 2.122e+03, 2.088e+03, 1.776e+03, 1.554e+03, 1.270e+03,\n",
       "        1.294e+03, 1.256e+03, 1.052e+03, 8.480e+02, 7.320e+02, 7.360e+02,\n",
       "        6.360e+02, 5.380e+02, 4.560e+02, 4.080e+02, 4.140e+02, 3.320e+02,\n",
       "        2.960e+02, 2.660e+02, 2.680e+02, 2.520e+02, 2.280e+02, 1.720e+02,\n",
       "        1.280e+02, 1.400e+02, 1.080e+02, 9.600e+01, 6.400e+01, 5.600e+01,\n",
       "        4.400e+01, 5.600e+01, 2.400e+01, 4.400e+01, 1.200e+01, 1.600e+01,\n",
       "        1.600e+01, 1.200e+01, 1.200e+01, 0.000e+00, 0.000e+00, 0.000e+00,\n",
       "        8.000e+00, 0.000e+00, 1.200e+01, 0.000e+00, 0.000e+00, 0.000e+00,\n",
       "        4.000e+00, 0.000e+00, 0.000e+00, 4.000e+00]),\n",
       " array([ 0.        ,  0.88095239,  1.76190477,  2.64285716,  3.52380954,\n",
       "         4.40476193,  5.28571431,  6.1666667 ,  7.04761909,  7.92857147,\n",
       "         8.80952386,  9.69047624, 10.57142863, 11.45238101, 12.3333334 ,\n",
       "        13.21428579, 14.09523817, 14.97619056, 15.85714294, 16.73809533,\n",
       "        17.61904771, 18.5000001 , 19.38095249, 20.26190487, 21.14285726,\n",
       "        22.02380964, 22.90476203, 23.78571441, 24.6666668 , 25.54761919,\n",
       "        26.42857157, 27.30952396, 28.19047634, 29.07142873, 29.95238111,\n",
       "        30.8333335 , 31.71428589, 32.59523827, 33.47619066, 34.35714304,\n",
       "        35.23809543, 36.11904781, 37.0000002 , 37.88095259, 38.76190497,\n",
       "        39.64285736, 40.52380974, 41.40476213, 42.28571451, 43.1666669 ,\n",
       "        44.04761929, 44.92857167, 45.80952406, 46.69047644, 47.57142883,\n",
       "        48.45238121, 49.3333336 , 50.21428599, 51.09523837, 51.97619076,\n",
       "        52.85714314, 53.73809553, 54.61904791, 55.5000003 , 56.38095269,\n",
       "        57.26190507, 58.14285746, 59.02380984, 59.90476223, 60.78571461,\n",
       "        61.666667  ]),\n",
       " <a list of 70 Patch objects>)"
      ]
     },
     "execution_count": 47,
     "metadata": {},
     "output_type": "execute_result"
    },
    {
     "data": {
      "image/png": "[encoded data removed]",
      "text/plain": [
       "<Figure size 432x288 with 1 Axes>"
      ]
     },
     "metadata": {
      "needs_background": "light"
     },
     "output_type": "display_data"
    }
   ],
   "source": [
    "plt.hist(start['NO2 Mean'], bins = 70, color='blue')\n",
    "plt.hist(end['NO2 Mean'], bins=70, color='red')"
   ]
  },
  {
   "cell_type": "code",
   "execution_count": 41,
   "metadata": {},
   "outputs": [
    {
     "data": {
      "text/html": [
       "<div>\n",
       "<style scoped>\n",
       "    .dataframe tbody tr th:only-of-type {\n",
       "        vertical-align: middle;\n",
       "    }\n",
       "\n",
       "    .dataframe tbody tr th {\n",
       "        vertical-align: top;\n",
       "    }\n",
       "\n",
       "    .dataframe thead th {\n",
       "        text-align: right;\n",
       "    }\n",
       "</style>\n",
       "<table border=\"1\" class=\"dataframe\">\n",
       "  <thead>\n",
       "    <tr style=\"text-align: right;\">\n",
       "      <th></th>\n",
       "      <th>NO2 Mean</th>\n",
       "      <th>NO2 1st Max Value</th>\n",
       "      <th>NO2 AQI</th>\n",
       "      <th>O3 Mean</th>\n",
       "      <th>O3 1st Max Value</th>\n",
       "      <th>O3 AQI</th>\n",
       "      <th>SO2 Mean</th>\n",
       "      <th>SO2 1st Max Value</th>\n",
       "      <th>SO2 AQI</th>\n",
       "      <th>CO Mean</th>\n",
       "      <th>CO 1st Max Value</th>\n",
       "      <th>CO AQI</th>\n",
       "    </tr>\n",
       "  </thead>\n",
       "  <tbody>\n",
       "    <tr>\n",
       "      <th>0</th>\n",
       "      <td>19.041667</td>\n",
       "      <td>49.0</td>\n",
       "      <td>46</td>\n",
       "      <td>0.022500</td>\n",
       "      <td>0.040</td>\n",
       "      <td>34</td>\n",
       "      <td>3.000000</td>\n",
       "      <td>9.0</td>\n",
       "      <td>13.0</td>\n",
       "      <td>1.145833</td>\n",
       "      <td>4.2</td>\n",
       "      <td>NaN</td>\n",
       "    </tr>\n",
       "    <tr>\n",
       "      <th>1</th>\n",
       "      <td>19.041667</td>\n",
       "      <td>49.0</td>\n",
       "      <td>46</td>\n",
       "      <td>0.022500</td>\n",
       "      <td>0.040</td>\n",
       "      <td>34</td>\n",
       "      <td>3.000000</td>\n",
       "      <td>9.0</td>\n",
       "      <td>13.0</td>\n",
       "      <td>0.878947</td>\n",
       "      <td>2.2</td>\n",
       "      <td>25.0</td>\n",
       "    </tr>\n",
       "    <tr>\n",
       "      <th>2</th>\n",
       "      <td>19.041667</td>\n",
       "      <td>49.0</td>\n",
       "      <td>46</td>\n",
       "      <td>0.022500</td>\n",
       "      <td>0.040</td>\n",
       "      <td>34</td>\n",
       "      <td>2.975000</td>\n",
       "      <td>6.6</td>\n",
       "      <td>NaN</td>\n",
       "      <td>1.145833</td>\n",
       "      <td>4.2</td>\n",
       "      <td>NaN</td>\n",
       "    </tr>\n",
       "    <tr>\n",
       "      <th>3</th>\n",
       "      <td>19.041667</td>\n",
       "      <td>49.0</td>\n",
       "      <td>46</td>\n",
       "      <td>0.022500</td>\n",
       "      <td>0.040</td>\n",
       "      <td>34</td>\n",
       "      <td>2.975000</td>\n",
       "      <td>6.6</td>\n",
       "      <td>NaN</td>\n",
       "      <td>0.878947</td>\n",
       "      <td>2.2</td>\n",
       "      <td>25.0</td>\n",
       "    </tr>\n",
       "    <tr>\n",
       "      <th>4</th>\n",
       "      <td>22.958333</td>\n",
       "      <td>36.0</td>\n",
       "      <td>34</td>\n",
       "      <td>0.013375</td>\n",
       "      <td>0.032</td>\n",
       "      <td>27</td>\n",
       "      <td>1.958333</td>\n",
       "      <td>3.0</td>\n",
       "      <td>4.0</td>\n",
       "      <td>0.850000</td>\n",
       "      <td>1.6</td>\n",
       "      <td>NaN</td>\n",
       "    </tr>\n",
       "    <tr>\n",
       "      <th>...</th>\n",
       "      <td>...</td>\n",
       "      <td>...</td>\n",
       "      <td>...</td>\n",
       "      <td>...</td>\n",
       "      <td>...</td>\n",
       "      <td>...</td>\n",
       "      <td>...</td>\n",
       "      <td>...</td>\n",
       "      <td>...</td>\n",
       "      <td>...</td>\n",
       "      <td>...</td>\n",
       "      <td>...</td>\n",
       "    </tr>\n",
       "    <tr>\n",
       "      <th>91641</th>\n",
       "      <td>16.375000</td>\n",
       "      <td>25.0</td>\n",
       "      <td>24</td>\n",
       "      <td>0.013875</td>\n",
       "      <td>0.016</td>\n",
       "      <td>14</td>\n",
       "      <td>6.050000</td>\n",
       "      <td>12.0</td>\n",
       "      <td>NaN</td>\n",
       "      <td>0.666667</td>\n",
       "      <td>0.7</td>\n",
       "      <td>8.0</td>\n",
       "    </tr>\n",
       "    <tr>\n",
       "      <th>91642</th>\n",
       "      <td>26.750000</td>\n",
       "      <td>43.0</td>\n",
       "      <td>41</td>\n",
       "      <td>0.009727</td>\n",
       "      <td>0.013</td>\n",
       "      <td>11</td>\n",
       "      <td>8.833333</td>\n",
       "      <td>17.0</td>\n",
       "      <td>24.0</td>\n",
       "      <td>0.879167</td>\n",
       "      <td>2.2</td>\n",
       "      <td>NaN</td>\n",
       "    </tr>\n",
       "    <tr>\n",
       "      <th>91643</th>\n",
       "      <td>26.750000</td>\n",
       "      <td>43.0</td>\n",
       "      <td>41</td>\n",
       "      <td>0.009727</td>\n",
       "      <td>0.013</td>\n",
       "      <td>11</td>\n",
       "      <td>8.833333</td>\n",
       "      <td>17.0</td>\n",
       "      <td>24.0</td>\n",
       "      <td>0.812500</td>\n",
       "      <td>1.3</td>\n",
       "      <td>15.0</td>\n",
       "    </tr>\n",
       "    <tr>\n",
       "      <th>91644</th>\n",
       "      <td>26.750000</td>\n",
       "      <td>43.0</td>\n",
       "      <td>41</td>\n",
       "      <td>0.009727</td>\n",
       "      <td>0.013</td>\n",
       "      <td>11</td>\n",
       "      <td>8.800000</td>\n",
       "      <td>13.3</td>\n",
       "      <td>NaN</td>\n",
       "      <td>0.879167</td>\n",
       "      <td>2.2</td>\n",
       "      <td>NaN</td>\n",
       "    </tr>\n",
       "    <tr>\n",
       "      <th>91645</th>\n",
       "      <td>26.750000</td>\n",
       "      <td>43.0</td>\n",
       "      <td>41</td>\n",
       "      <td>0.009727</td>\n",
       "      <td>0.013</td>\n",
       "      <td>11</td>\n",
       "      <td>8.800000</td>\n",
       "      <td>13.3</td>\n",
       "      <td>NaN</td>\n",
       "      <td>0.812500</td>\n",
       "      <td>1.3</td>\n",
       "      <td>15.0</td>\n",
       "    </tr>\n",
       "  </tbody>\n",
       "</table>\n",
       "<p>91646 rows × 12 columns</p>\n",
       "</div>"
      ],
      "text/plain": [
       "        NO2 Mean  NO2 1st Max Value  NO2 AQI   O3 Mean  O3 1st Max Value  \\\n",
       "0      19.041667               49.0       46  0.022500             0.040   \n",
       "1      19.041667               49.0       46  0.022500             0.040   \n",
       "2      19.041667               49.0       46  0.022500             0.040   \n",
       "3      19.041667               49.0       46  0.022500             0.040   \n",
       "4      22.958333               36.0       34  0.013375             0.032   \n",
       "...          ...                ...      ...       ...               ...   \n",
       "91641  16.375000               25.0       24  0.013875             0.016   \n",
       "91642  26.750000               43.0       41  0.009727             0.013   \n",
       "91643  26.750000               43.0       41  0.009727             0.013   \n",
       "91644  26.750000               43.0       41  0.009727             0.013   \n",
       "91645  26.750000               43.0       41  0.009727             0.013   \n",
       "\n",
       "       O3 AQI  SO2 Mean  SO2 1st Max Value  SO2 AQI   CO Mean  \\\n",
       "0          34  3.000000                9.0     13.0  1.145833   \n",
       "1          34  3.000000                9.0     13.0  0.878947   \n",
       "2          34  2.975000                6.6      NaN  1.145833   \n",
       "3          34  2.975000                6.6      NaN  0.878947   \n",
       "4          27  1.958333                3.0      4.0  0.850000   \n",
       "...       ...       ...                ...      ...       ...   \n",
       "91641      14  6.050000               12.0      NaN  0.666667   \n",
       "91642      11  8.833333               17.0     24.0  0.879167   \n",
       "91643      11  8.833333               17.0     24.0  0.812500   \n",
       "91644      11  8.800000               13.3      NaN  0.879167   \n",
       "91645      11  8.800000               13.3      NaN  0.812500   \n",
       "\n",
       "       CO 1st Max Value  CO AQI  \n",
       "0                   4.2     NaN  \n",
       "1                   2.2    25.0  \n",
       "2                   4.2     NaN  \n",
       "3                   2.2    25.0  \n",
       "4                   1.6     NaN  \n",
       "...                 ...     ...  \n",
       "91641               0.7     8.0  \n",
       "91642               2.2     NaN  \n",
       "91643               1.3    15.0  \n",
       "91644               2.2     NaN  \n",
       "91645               1.3    15.0  \n",
       "\n",
       "[91646 rows x 12 columns]"
      ]
     },
     "execution_count": 41,
     "metadata": {},
     "output_type": "execute_result"
    }
   ],
   "source": [
    "plt.hist(end)"
   ]
  },
  {
   "cell_type": "code",
   "execution_count": 53,
   "metadata": {},
   "outputs": [
    {
     "data": {
      "image/png": "[encoded data removed]",
      "text/plain": [
       "<Figure size 720x720 with 12 Axes>"
      ]
     },
     "metadata": {
      "needs_background": "light"
     },
     "output_type": "display_data"
    }
   ],
   "source": [
    "fig, axs = plt.subplots(4,3,figsize=(10,10))\n",
    "\n",
    "axs=axs.flatten()\n",
    "for i, col in enumerate(cols_list):   \n",
    "    axs[i].hist(start[col], bins = 70, color='blue', label='2000')\n",
    "    axs[i].hist(end[col], bins=70, color='red', label='2015')\n",
    "    axs[i].set_ylabel('Count')\n",
    "    axs[i].set_xlabel(f'{col} values')\n",
    "    axs[i].legend()\n",
    "\n",
    "fig.tight_layout()  "
   ]
  },
  {
   "cell_type": "code",
   "execution_count": 45,
   "metadata": {},
   "outputs": [
    {
     "data": {
      "text/plain": [
       "0.0"
      ]
     },
     "execution_count": 45,
     "metadata": {},
     "output_type": "execute_result"
    }
   ],
   "source": []
  },
  {
   "cell_type": "code",
   "execution_count": null,
   "metadata": {},
   "outputs": [],
   "source": [
    "start"
   ]
  }
 ],
 "metadata": {
  "kernelspec": {
   "display_name": "Python 3",
   "language": "python",
   "name": "python3"
  },
  "language_info": {
   "codemirror_mode": {
    "name": "ipython",
    "version": 3
   },
   "file_extension": ".py",
   "mimetype": "text/x-python",
   "name": "python",
   "nbconvert_exporter": "python",
   "pygments_lexer": "ipython3",
   "version": "3.7.6"
  }
 },
 "nbformat": 4,
 "nbformat_minor": 4
}
